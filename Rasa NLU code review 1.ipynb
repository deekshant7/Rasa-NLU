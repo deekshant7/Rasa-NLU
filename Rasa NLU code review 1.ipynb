{
 "cells": [
  {
   "cell_type": "code",
   "execution_count": 1,
   "metadata": {},
   "outputs": [
    {
     "name": "stdout",
     "output_type": "stream",
     "text": [
      "Event loop ready.\n"
     ]
    }
   ],
   "source": [
    "import nest_asyncio\n",
    "\n",
    "nest_asyncio.apply()\n",
    "print(\"Event loop ready.\")"
   ]
  },
  {
   "cell_type": "code",
   "execution_count": 6,
   "metadata": {},
   "outputs": [
    {
     "name": "stdout",
     "output_type": "stream",
     "text": [
      "['actions.py', 'config.yml', 'credentials.yml', 'data', 'domain.yml', 'endpoints.yml', 'tests', '__init__.py', '__pycache__']\n"
     ]
    }
   ],
   "source": [
    "from rasa.cli.scaffold import create_initial_project\n",
    "import os\n",
    "\n",
    "import rasa\n",
    "from rasa.nlu.train import Interpreter\n",
    "from rasa.nlu.training_data import load_data\n",
    "from rasa.nlu.config import RasaNLUModelConfig\n",
    "from rasa.nlu.model import Trainer\n",
    "from rasa.nlu import config\n",
    "import json\n",
    "\n",
    "#Getting the config file\n",
    "project = \"test-project\"\n",
    "create_initial_project(project)\n",
    "\n",
    "# move into project directory and show files\n",
    "os.chdir(project)\n",
    "print(os.listdir(\".\"))"
   ]
  },
  {
   "cell_type": "markdown",
   "metadata": {},
   "source": [
    "#### Creating the nlu.md file and Writing our own Intent"
   ]
  },
  {
   "cell_type": "code",
   "execution_count": 8,
   "metadata": {},
   "outputs": [],
   "source": [
    "nlu_md = \"\"\"\n",
    "## intent:greet\n",
    "- hey\n",
    "- hello\n",
    "- hi\n",
    "- good morning\n",
    "- good evening\n",
    "- hey there\n",
    "\n",
    "## intent:restaurant_search\n",
    "- i'm looking for a place to eat\n",
    "- I want to grab lunch\n",
    "- I am searching for a dinner spot\n",
    "- i'm looking for a place in the north location of town\n",
    "- show me  chinese cuisine restaurants\n",
    "- show me a mexican cuisine place in the [centre](location)\n",
    "- i am looking for an indian cuisine spot\n",
    "- search for restaurants\n",
    "- anywhere in the \n",
    "- anywhere near \n",
    "- I am looking for asian fusion  food\n",
    "- I am looking a restaurant \n",
    "\n",
    "## intent:cancel_order\n",
    "- Not hungry anymore\n",
    "- Getting Your Food Is An Impossible Dream\n",
    "- Thinking of eating something else\n",
    "- Cheaper alternative available for lesser price.\n",
    "- Bad review from friends\n",
    "- come across with better deal \n",
    "- Delayed Delivery\n",
    "\n",
    "## intent:Delivery status\n",
    "- When will my order come\n",
    "- why hasnt the order reached on time\n",
    "- Cant wait any longer\n",
    "- Tired of waiting\n",
    "- why is there a delay\n",
    "- will  i get my order today\n",
    "\n",
    "## intent:thankyou\n",
    "- thanks!\n",
    "- thank you\n",
    "- thx\n",
    "- thanks very much\n",
    "\"\"\"\n",
    "\n",
    "#Saving the file\n",
    "text_file = open(\"nlu.md\", \"w\")\n",
    "text_file.write(nlu_md)\n",
    "text_file.close()"
   ]
  },
  {
   "cell_type": "code",
   "execution_count": 9,
   "metadata": {},
   "outputs": [
    {
     "name": "stderr",
     "output_type": "stream",
     "text": [
      "\u001b[93mC:\\Users\\deeks\\Anaconda3\\envs\\tensorflow\\lib\\site-packages\\rasa\\utils\\common.py:363: UserWarning: Entity entity 'location' has only 1 training examples! The minimum is 2, because of this the training may fail.\n",
      "Epochs: 100%|█| 100/100 [00:31<00:00,  3.18it/s, t_loss=1.640, i_loss=0.015, entity_loss=0.009, i_acc=1.000, entity_f1=0.715]\n"
     ]
    }
   ],
   "source": [
    "#loading the NLU training Example\n",
    "training_data = load_data('nlu.md')\n",
    "\n",
    "#Trainer to educate our pipeline\n",
    "trainer = Trainer(config.load(\"config.yml\"))\n",
    "\n",
    "#train The model\n",
    "interpreter = trainer.train(training_data)\n",
    "\n",
    "#Store it for future use\n",
    "model_directory = trainer.persist('model',fixed_model_name = 'current')"
   ]
  },
  {
   "cell_type": "markdown",
   "metadata": {},
   "source": [
    "#### Evaluating the NLU model"
   ]
  },
  {
   "cell_type": "code",
   "execution_count": 10,
   "metadata": {},
   "outputs": [
    {
     "name": "stdout",
     "output_type": "stream",
     "text": [
      "{'intent': {'name': 'greet', 'confidence': 0.999999463558197}, 'entities': [], 'intent_ranking': [{'name': 'greet', 'confidence': 0.999999463558197}, {'name': 'cancel_order', 'confidence': 3.9446979371859925e-07}, {'name': 'Delivery status', 'confidence': 1.7007033648042125e-07}, {'name': 'thankyou', 'confidence': 3.2196725285871253e-09}, {'name': 'restaurant_search', 'confidence': 7.83079937699549e-12}], 'response_selector': {'default': {'response': {'name': None, 'confidence': 0.0}, 'ranking': [], 'full_retrieval_intent': 'thankyou/None'}}, 'text': 'hello'}\n"
     ]
    }
   ],
   "source": [
    "#A helper function for pretier output\n",
    "def pprint(o):\n",
    "    print(json.dumps(o,indent=3))\n",
    "\n",
    "print(interpreter.parse('hello'))"
   ]
  },
  {
   "cell_type": "code",
   "execution_count": 11,
   "metadata": {},
   "outputs": [
    {
     "name": "stdout",
     "output_type": "stream",
     "text": [
      "{'intent': {'name': 'restaurant_search', 'confidence': 0.998565137386322}, 'entities': [], 'intent_ranking': [{'name': 'restaurant_search', 'confidence': 0.998565137386322}, {'name': 'Delivery status', 'confidence': 0.000838333333376795}, {'name': 'thankyou', 'confidence': 0.0005029566236771643}, {'name': 'cancel_order', 'confidence': 8.979772974271327e-05}, {'name': 'greet', 'confidence': 3.7276886359904893e-06}], 'response_selector': {'default': {'response': {'name': None, 'confidence': 0.0}, 'ranking': [], 'full_retrieval_intent': 'thankyou/None'}}, 'text': \"let's see some italian restaurants\"}\n"
     ]
    }
   ],
   "source": [
    "print(interpreter.parse(\"let's see some italian restaurants\"))"
   ]
  },
  {
   "cell_type": "code",
   "execution_count": 12,
   "metadata": {},
   "outputs": [
    {
     "name": "stdout",
     "output_type": "stream",
     "text": [
      "{'intent': {'name': 'cancel_order', 'confidence': 0.8156499266624451}, 'entities': [], 'intent_ranking': [{'name': 'cancel_order', 'confidence': 0.8156499266624451}, {'name': 'Delivery status', 'confidence': 0.12390382587909698}, {'name': 'greet', 'confidence': 0.05915297940373421}, {'name': 'thankyou', 'confidence': 0.0009208808769471943}, {'name': 'restaurant_search', 'confidence': 0.000372402835637331}], 'response_selector': {'default': {'response': {'name': None, 'confidence': 0.0}, 'ranking': [], 'full_retrieval_intent': 'thankyou/None'}}, 'text': 'No longer hungry'}\n"
     ]
    }
   ],
   "source": [
    "print(interpreter.parse(\"No longer hungry\"))"
   ]
  },
  {
   "cell_type": "code",
   "execution_count": 13,
   "metadata": {},
   "outputs": [
    {
     "name": "stdout",
     "output_type": "stream",
     "text": [
      "{'intent': {'name': 'Delivery status', 'confidence': 0.8699944615364075}, 'entities': [], 'intent_ranking': [{'name': 'Delivery status', 'confidence': 0.8699944615364075}, {'name': 'restaurant_search', 'confidence': 0.12810568511486053}, {'name': 'thankyou', 'confidence': 0.0013391440734267235}, {'name': 'cancel_order', 'confidence': 0.0002893274067901075}, {'name': 'greet', 'confidence': 0.00027141228201799095}], 'response_selector': {'default': {'response': {'name': None, 'confidence': 0.0}, 'ranking': [], 'full_retrieval_intent': 'thankyou/None'}}, 'text': 'How much longer do i have to wait'}\n"
     ]
    }
   ],
   "source": [
    "print(interpreter.parse(\"How much longer do i have to wait\"))"
   ]
  },
  {
   "cell_type": "code",
   "execution_count": null,
   "metadata": {},
   "outputs": [],
   "source": []
  }
 ],
 "metadata": {
  "kernelspec": {
   "display_name": "Python 3.6 (tensorflow)",
   "language": "python",
   "name": "tensorflow"
  },
  "language_info": {
   "codemirror_mode": {
    "name": "ipython",
    "version": 3
   },
   "file_extension": ".py",
   "mimetype": "text/x-python",
   "name": "python",
   "nbconvert_exporter": "python",
   "pygments_lexer": "ipython3",
   "version": "3.6.9"
  }
 },
 "nbformat": 4,
 "nbformat_minor": 4
}
